{
 "cells": [
  {
   "cell_type": "markdown",
   "metadata": {},
   "source": [
    "# Aula 8 – Funções e Procedimentos\n",
    "\n",
    "- Funções: Subrotinas que retornam um valor\n",
    "- Procedimentos: Subrotinas que não retornam um valor\n"
   ]
  },
  {
   "cell_type": "markdown",
   "metadata": {},
   "source": [
    "## Sintaxe"
   ]
  },
  {
   "cell_type": "code",
   "execution_count": null,
   "metadata": {},
   "outputs": [],
   "source": [
    "\"\"\"def nomedafuncao(parametros):\n",
    "        ação \"\"\"\n"
   ]
  },
  {
   "cell_type": "markdown",
   "metadata": {},
   "source": [
    "## Parâmetro e Argumento\n",
    "\n",
    "- Parâmetro - variável que irá receber um valor em uma função ou procedimento\n",
    "- Argumento - valor que é passado para a função ou procedimento"
   ]
  },
  {
   "cell_type": "markdown",
   "metadata": {},
   "source": [
    "## Argumentos Posicionais e Nomeados\n",
    "\n",
    "- Posicional - utilizado para a passagem de valores onde cada valor precisa estar na ordem conforme o implementado na função.\n",
    "- Nomeados - passagem de valores fazendo associação com o nome do parâmetro e o valor que está sendo enviado."
   ]
  },
  {
   "cell_type": "code",
   "execution_count": 3,
   "metadata": {},
   "outputs": [
    {
     "name": "stdout",
     "output_type": "stream",
     "text": [
      "9\n",
      "21\n"
     ]
    }
   ],
   "source": [
    "def soma (num1, num2):\n",
    "    print(num1 + num2)\n",
    "    \n",
    "#Posicionais\n",
    "soma(5, 4)\n",
    "\n",
    "#Nomeados\n",
    "soma(num1=10, num2=11)\n"
   ]
  },
  {
   "cell_type": "markdown",
   "metadata": {},
   "source": [
    "## Função"
   ]
  },
  {
   "cell_type": "code",
   "execution_count": 6,
   "metadata": {},
   "outputs": [
    {
     "name": "stdout",
     "output_type": "stream",
     "text": [
      "20.0\n",
      "20.0\n",
      "5.0\n",
      "25\n"
     ]
    }
   ],
   "source": [
    "#Ex 1:\n",
    "def precoMedio(vendas, quantidade):\n",
    "    return vendas/quantidade\n",
    "\n",
    "precoMedio(800,40)\n",
    "print(precoMedio(800,40))\n",
    "\n",
    "precoM = precoMedio(800, 40)\n",
    "print(precoM)\n",
    "\n",
    "#Ex 2:\n",
    "def divisao(num1, num2):\n",
    "    return num1/num2\n",
    "\n",
    "print(divisao(10,2))\n",
    "\n",
    "#Ex 3:\n",
    "def quadrado(num):\n",
    "    return num*num\n",
    "\n",
    "print(quadrado(5))\n",
    "\n"
   ]
  },
  {
   "cell_type": "markdown",
   "metadata": {},
   "source": [
    "## Procedimento"
   ]
  },
  {
   "cell_type": "code",
   "execution_count": 7,
   "metadata": {},
   "outputs": [
    {
     "name": "stdout",
     "output_type": "stream",
     "text": [
      "30.0\n"
     ]
    }
   ],
   "source": [
    "def precoMedio(vendas, quantidade):\n",
    "    print(vendas/quantidade)\n",
    "    \n",
    "precoMedio(900, 30)"
   ]
  },
  {
   "cell_type": "code",
   "execution_count": null,
   "metadata": {},
   "outputs": [],
   "source": []
  }
 ],
 "metadata": {
  "kernelspec": {
   "display_name": "Python 3",
   "language": "python",
   "name": "python3"
  },
  "language_info": {
   "codemirror_mode": {
    "name": "ipython",
    "version": 3
   },
   "file_extension": ".py",
   "mimetype": "text/x-python",
   "name": "python",
   "nbconvert_exporter": "python",
   "pygments_lexer": "ipython3",
   "version": "3.8.3"
  }
 },
 "nbformat": 4,
 "nbformat_minor": 2
}
