{
 "cells": [
  {
   "cell_type": "markdown",
   "metadata": {},
   "source": [
    "# Aula 7 – Tuplas, Dicionários e Conjuntos\n"
   ]
  },
  {
   "cell_type": "markdown",
   "metadata": {},
   "source": [
    "## Tuplas\n",
    "\n",
    "- Parecido com uma lista, porém imutável\n",
    "- Após a tupla ser criada, não é permitido adicionar ou remover elementos\n",
    "- Pode ter seus elementos delimitados por parênteses ou sem delimitador, sempre separados por virgula"
   ]
  },
  {
   "cell_type": "code",
   "execution_count": 1,
   "metadata": {},
   "outputs": [
    {
     "name": "stdout",
     "output_type": "stream",
     "text": [
      "<class 'tuple'>\n",
      "<class 'tuple'>\n",
      "segunda\n",
      "terça\n"
     ]
    }
   ],
   "source": [
    "#Declarando com parenteses\n",
    "diasSemana = (\"segunda\", \"terça\", \"quarta\", \"quinta\", \"sexta\")\n",
    "print(type(diasSemana))\n",
    "\n",
    "#Declarando sem parenteses\n",
    "diasTrabalhados = \"segunda\", \"terça\", \"quarta\", \"quinta\", \"sexta\"\n",
    "print(type(diasTrabalhados))\n",
    "\n",
    "\n",
    "print(diasSemana[0])\n",
    "print(diasTrabalhados[1])"
   ]
  },
  {
   "cell_type": "markdown",
   "metadata": {},
   "source": [
    "## Dicionários\n",
    "    \n",
    "- Parecido com listas e tuplas, porém cada elemento dentro do dicionário possui um identificador atrelado a ele\n",
    "- Elementos delimitados por chaves"
   ]
  },
  {
   "cell_type": "code",
   "execution_count": 11,
   "metadata": {},
   "outputs": [
    {
     "name": "stdout",
     "output_type": "stream",
     "text": [
      "<class 'dict'>\n",
      "Jose\n",
      "Marketing\n"
     ]
    }
   ],
   "source": [
    "'''\n",
    "dicionario = {chave: valor, chave2: valor2}\n",
    "'''\n",
    "\n",
    "dicionario = {'Nome': 'Jose',\n",
    "              'Idade': 30,\n",
    "              'Área': 'Marketing'}\n",
    "\n",
    "print(type(dicionario))\n",
    "\n",
    "print(dicionario['Nome'])\n",
    "print(dicionario['Área'])"
   ]
  },
  {
   "cell_type": "code",
   "execution_count": 3,
   "metadata": {},
   "outputs": [
    {
     "name": "stdout",
     "output_type": "stream",
     "text": [
      "4\n"
     ]
    }
   ],
   "source": [
    "carro = {'Modelo': 'Ferrari',\n",
    "         'Ano': 2018,\n",
    "         'Quantidade de Rodas': 4,\n",
    "         'Velocidade Maxima': 400}\n",
    "\n",
    "print(carro['Quantidade de Rodas'])"
   ]
  },
  {
   "cell_type": "code",
   "execution_count": 7,
   "metadata": {},
   "outputs": [
    {
     "name": "stdout",
     "output_type": "stream",
     "text": [
      "2\n",
      "Cliente Giovanna gastou um total de 200\n"
     ]
    }
   ],
   "source": [
    "baseClientes = {'Nome':['Gabriel', 'Giovanna', 'Joao'],\n",
    "                'Valor da Compra': [100,200,150]}\n",
    "\n",
    "print('Cliente', baseClientes['Nome'][1], 'gastou um total de', baseClientes['Valor da Compra'][1])"
   ]
  },
  {
   "cell_type": "markdown",
   "metadata": {},
   "source": [
    "## Adicionando e Removendo Elementos do Dicionário\n",
    "\n",
    "- Adicionar: \n",
    "    - dicionario.update({identificador: elemento})\n",
    "    - dicionario[identificador] = elemento\n",
    "    \n",
    "- Remover: dicionario.pop(identificador)"
   ]
  },
  {
   "cell_type": "code",
   "execution_count": 12,
   "metadata": {},
   "outputs": [
    {
     "name": "stdout",
     "output_type": "stream",
     "text": [
      "{'Nome': 'Jose', 'Idade': 30, 'Área': 'Marketing', 'Cargo': 'Analista', 'Escolaridade': 'Ensino Superior Completo'}\n",
      "{'Nome': 'Jose', 'Idade': 30, 'Cargo': 'Analista', 'Escolaridade': 'Ensino Superior Completo'}\n"
     ]
    }
   ],
   "source": [
    "#2 Modos:\n",
    "dicionario.update({'Cargo': 'Analista'})\n",
    "dicionario['Escolaridade'] = 'Ensino Superior Completo'\n",
    "print(dicionario)\n",
    "\n",
    "dicionario.pop('Área')\n",
    "print(dicionario)"
   ]
  },
  {
   "cell_type": "markdown",
   "metadata": {},
   "source": [
    "## Funções Keys() e Values()\n",
    "\n",
    "- keys(): Retorna a lista de chaves contidas no dicionário.\n",
    "- values(): Retorna a lista de valores contidos no dicionário."
   ]
  },
  {
   "cell_type": "code",
   "execution_count": 13,
   "metadata": {},
   "outputs": [
    {
     "name": "stdout",
     "output_type": "stream",
     "text": [
      "dict_keys(['Nome', 'Idade', 'Cargo', 'Escolaridade'])\n",
      "dict_values(['Jose', 30, 'Analista', 'Ensino Superior Completo'])\n"
     ]
    }
   ],
   "source": [
    "#dicionario.keys()\n",
    "print(dicionario.keys())\n",
    "\n",
    "#dicionario.values()\n",
    "print(dicionario.values())"
   ]
  },
  {
   "cell_type": "code",
   "execution_count": 16,
   "metadata": {},
   "outputs": [
    {
     "name": "stdout",
     "output_type": "stream",
     "text": [
      "Cliente Gabriel gastou um total de 100\n",
      "Cliente Giovanna gastou um total de 200\n",
      "Cliente Joao gastou um total de 150\n"
     ]
    }
   ],
   "source": [
    "baseClientes = {'Nome':['Gabriel', 'Giovanna', 'Joao'],\n",
    "                'Valor da Compra': [100, 200, 150]}\n",
    "\n",
    "for linha in range(len(baseClientes['Nome'])):   #[0,1,2]\n",
    "    print('Cliente', baseClientes['Nome'][linha], 'gastou um total de', baseClientes['Valor da Compra'][linha])"
   ]
  },
  {
   "cell_type": "markdown",
   "metadata": {},
   "source": [
    "## Conjuntos ou Sets\n",
    "\n",
    "- Não tem uma ordem específica\n",
    "- Não contém elementos repetidos\n",
    "- Delimitado por chaves\n",
    "- Nao é possível acessar um elemento de um conjunto através de um item, apenas através de um laço for"
   ]
  },
  {
   "cell_type": "code",
   "execution_count": 17,
   "metadata": {},
   "outputs": [
    {
     "name": "stdout",
     "output_type": "stream",
     "text": [
      "<class 'set'>\n",
      "Beatriz\n",
      "Jorge\n",
      "Bruno\n",
      "Lucas\n",
      "Pedro\n",
      "Gabriel\n"
     ]
    }
   ],
   "source": [
    "#Conjuntos são mais rápidas que listas.\n",
    "\n",
    "Area = {\"Beatriz\", \"Bruno\", \"Lucas\", \"Gabriel\", \"Pedro\", \"Jorge\"}\n",
    "print(type(Area))\n",
    "\n",
    "for p in Area:\n",
    "    print(p)\n",
    "    "
   ]
  },
  {
   "cell_type": "markdown",
   "metadata": {},
   "source": [
    "## Métodos em Conjuntos\n",
    "\n",
    "- Podem ser usados os mesmo métodos de uma lista comum\n",
    "- União: a.union(b) - une 2 conjuntos \n",
    "- Intersecção: a.intersection(b) - retorna os itens iguais nas 2 listas\n",
    "- Diferença: a.difference(b) - retorna os elementos de a que não estão em b\n",
    "- Diferença Simétrica: a.symmetric_difference(b) - retorna todos os elementos que pertencem a somente um dos conjutos\n",
    "- Verificação de Pertinência:\n",
    "    - elemento in a -  verificar se um elemento pertence a um conjunto, sempre retorna True ou False\n",
    "    - b.issubset(a) - verifica se um conjunto é subconjunto de outro\n",
    "    - a.issuperset(b) - verifica se um conjunto é superconjunto de outro\n",
    "    - b.isdisjoint(a) - verifica se dois conjuntos são disjuntos (se têm intersecção nula)\n",
    "- Remover elementos duplicados de uma lista: set(lista)\n",
    "\n",
    "\n"
   ]
  },
  {
   "cell_type": "code",
   "execution_count": null,
   "metadata": {},
   "outputs": [],
   "source": [
    "Area = {\"Jorge\", \"Lucas\", \"Pedro\", \"Gabriel\", \"Bruno\", \"Beatriz\"}\n",
    "AreaEstags = {\"Bruno\", \"Beatriz\"}\n",
    "AreaEfetivos = {\"Jorge\", \"Lucas\", \"Pedro\", \"Gabriel\"}\n",
    "\n",
    "#Uniao:\n",
    "print(AreaEstags.union(AreaEfetivos))\n",
    "\n",
    "#Interseçção\n",
    "print(AreaEstags.intersection(Area))\n",
    "\n",
    "#Diferença\n",
    "print(AreaEstags.difference(Area))\n",
    "\n",
    "#Diferença Simétrica\n",
    "print(AreaEstags.symmetric_difference(Area))\n",
    "\n",
    "#Verifica\n",
    "print(PEDSEstags.issubset(PEDS))\n",
    "print(PEDS.issuperset(PEDSEfetivos))\n",
    "print(PEDSEfetivos.isdisjoint(PEDSEstags))\n",
    "\n",
    "#Remove Elementos Duplicados\n",
    "listaPEDS = [\"Pedro\", \"Beatriz\", \"Pedro\", \"Bruno\", \"Lucas\", \"Jorge\", \"Lucas\", \"Gabriel\" ]\n",
    "listaPEDS = set(listaPEDS)\n",
    "print(listaPEDS)"
   ]
  },
  {
   "cell_type": "code",
   "execution_count": null,
   "metadata": {},
   "outputs": [],
   "source": []
  }
 ],
 "metadata": {
  "kernelspec": {
   "display_name": "Python 3",
   "language": "python",
   "name": "python3"
  },
  "language_info": {
   "codemirror_mode": {
    "name": "ipython",
    "version": 3
   },
   "file_extension": ".py",
   "mimetype": "text/x-python",
   "name": "python",
   "nbconvert_exporter": "python",
   "pygments_lexer": "ipython3",
   "version": "3.8.3"
  }
 },
 "nbformat": 4,
 "nbformat_minor": 2
}
