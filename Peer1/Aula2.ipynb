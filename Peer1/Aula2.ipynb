{
 "cells": [
  {
   "cell_type": "markdown",
   "metadata": {},
   "source": [
    "# Aula 2 - Operadores aritméticos, Função input()  e Conversão de Tipos de Dados"
   ]
  },
  {
   "cell_type": "markdown",
   "metadata": {},
   "source": [
    "## Operadores Aritméticos\n",
    "\n",
    "Principais:\n",
    "- Soma: +\n",
    "- Subtração: -\n",
    "- Multiplicação: *\n",
    "- Divisão: /\n",
    "\n",
    "Secundárias:\n",
    "- Resto da Divisão (Módulo): %\n",
    "- Divisão Inteira: //\n",
    "- Exponenciação: **\n",
    "\n",
    "Ordem de Calculo (preferencia): \n",
    "    - ()\n",
    "    - %\n",
    "    - **\n",
    "    - / ou * ou //\n",
    "    - + ou -"
   ]
  },
  {
   "cell_type": "code",
   "execution_count": 1,
   "metadata": {},
   "outputs": [],
   "source": [
    "#Comentarios no código são feitos com # no inicio da linha\n",
    "#Versão: Python 3\n",
    "\n",
    "#Variaveis\n",
    "vendas = 1000\n",
    "quantidadeProdutosVendidos = 50\n",
    "custoMPUnitario = 2\n",
    "custoFabricacaoUnitario = 8\n",
    "custoFreteUnitario = 5\n",
    "capacidadeCaminhao = 8\n",
    "\n",
    "\n",
    "#Calcular\n",
    "precoMedio = vendas/quantidadeProdutosVendidos\n",
    "quantidadeCaminhoesCompletos = quantidadeProdutosVendidos // capacidadeCaminhao\n",
    "custoFabricacaoTotal = custoFabricacaoUnitario * quantidadeProdutosVendidos\n",
    "custoFreteTotal = custoFreteUnitario * quantidadeProdutosVendidos\n",
    "custoMPTotal = custoMPUnitario * quantidadeProdutosVendidos\n",
    "custoTotal = custoFabricacaoTotal + custoFreteTotal + custoMPTotal\n",
    "lucroTotal = vendas - custoTotal\n"
   ]
  },
  {
   "cell_type": "code",
   "execution_count": 2,
   "metadata": {},
   "outputs": [
    {
     "name": "stdout",
     "output_type": "stream",
     "text": [
      "20.0\n",
      "400\n",
      "250\n",
      "750\n"
     ]
    }
   ],
   "source": [
    "print(precoMedio)\n",
    "print(custoFabricacaoTotal)\n",
    "print(custoFreteTotal)\n",
    "print(custoTotal)"
   ]
  },
  {
   "cell_type": "code",
   "execution_count": 3,
   "metadata": {},
   "outputs": [
    {
     "name": "stdout",
     "output_type": "stream",
     "text": [
      "4\n",
      "5.0\n"
     ]
    }
   ],
   "source": [
    "#Potencia e Raiz\n",
    "\n",
    "PotenciaDe2 = 2**2\n",
    "raiz25 = 25**(1/2)\n",
    "\n",
    "print(PotenciaDe2)\n",
    "print(raiz25)"
   ]
  },
  {
   "cell_type": "markdown",
   "metadata": {},
   "source": [
    "## Função input()\n",
    "\n",
    "\n",
    "Função de entrada de dados: solicita um valor para o usuário e retorna esse valor na função.\n",
    "\n",
    "\n",
    "- O retorno da função input é sempre do tipo str (mesmo que eu insira um número, o número é convertido para texto)\n",
    "- Pode ser usada para definir o valor de uma variável"
   ]
  },
  {
   "cell_type": "code",
   "execution_count": 1,
   "metadata": {},
   "outputs": [
    {
     "name": "stdout",
     "output_type": "stream",
     "text": [
      "insira o seu nome:Gabriel\n"
     ]
    },
    {
     "data": {
      "text/plain": [
       "'Gabriel'"
      ]
     },
     "execution_count": 1,
     "metadata": {},
     "output_type": "execute_result"
    }
   ],
   "source": [
    "input(\"insira o seu nome:\")"
   ]
  },
  {
   "cell_type": "code",
   "execution_count": 5,
   "metadata": {},
   "outputs": [
    {
     "name": "stdout",
     "output_type": "stream",
     "text": [
      "Insira sua matricula: 12345\n",
      "Sua matrícula é 12345\n",
      "O tipo da variável matricula é <class 'str'>\n"
     ]
    }
   ],
   "source": [
    "matricula = input(\"Insira sua matricula: \")\n",
    "\n",
    "print(\"Sua matrícula é\", matricula)\n",
    "print(\"O tipo da variável matricula é\", type(matricula))"
   ]
  },
  {
   "cell_type": "markdown",
   "metadata": {},
   "source": [
    "## Conversão de Tipos de Dados\n",
    "\n",
    "Converter número para texto:\n",
    "    - função str()\n",
    "\n",
    "Converter texto para número:\n",
    "    - função int()\n",
    "    - função float()"
   ]
  },
  {
   "cell_type": "code",
   "execution_count": 6,
   "metadata": {},
   "outputs": [
    {
     "name": "stdout",
     "output_type": "stream",
     "text": [
      "12345\n"
     ]
    }
   ],
   "source": [
    "print(int(matricula))"
   ]
  },
  {
   "cell_type": "code",
   "execution_count": 7,
   "metadata": {},
   "outputs": [
    {
     "name": "stdout",
     "output_type": "stream",
     "text": [
      "insira sua idade: 20\n",
      "insira seu peso: 50.1\n"
     ]
    }
   ],
   "source": [
    "idade = int(input(\"insira sua idade: \"))\n",
    "peso = float(input(\"insira seu peso: \"))"
   ]
  },
  {
   "cell_type": "code",
   "execution_count": 8,
   "metadata": {},
   "outputs": [
    {
     "name": "stdout",
     "output_type": "stream",
     "text": [
      "Tipo da variavel idade: <class 'int'>\n",
      "Tipo da variavel peso: <class 'float'>\n"
     ]
    }
   ],
   "source": [
    "print(\"Tipo da variavel idade:\", type(idade))\n",
    "print(\"Tipo da variavel peso:\", type(peso))"
   ]
  },
  {
   "cell_type": "code",
   "execution_count": 9,
   "metadata": {},
   "outputs": [],
   "source": [
    "numeroTelefone = 987654321"
   ]
  },
  {
   "cell_type": "code",
   "execution_count": 10,
   "metadata": {},
   "outputs": [
    {
     "data": {
      "text/plain": [
       "'987654321'"
      ]
     },
     "execution_count": 10,
     "metadata": {},
     "output_type": "execute_result"
    }
   ],
   "source": [
    "str(987654321)"
   ]
  },
  {
   "cell_type": "code",
   "execution_count": 11,
   "metadata": {},
   "outputs": [
    {
     "data": {
      "text/plain": [
       "'987654321'"
      ]
     },
     "execution_count": 11,
     "metadata": {},
     "output_type": "execute_result"
    }
   ],
   "source": [
    "str(numeroTelefone)"
   ]
  },
  {
   "cell_type": "code",
   "execution_count": 2,
   "metadata": {},
   "outputs": [
    {
     "name": "stdout",
     "output_type": "stream",
     "text": [
      "100\n",
      "O numero informado foi: 100\n"
     ]
    }
   ],
   "source": [
    "#Faça um Programa que peça um número e então mostre a mensagem O número informado foi [número]\n",
    "numero = input()\n",
    "print(\"O numero informado foi:\", numero)\n",
    "\n"
   ]
  },
  {
   "cell_type": "code",
   "execution_count": 4,
   "metadata": {},
   "outputs": [
    {
     "name": "stdout",
     "output_type": "stream",
     "text": [
      "Qual sua nota do primeiro trimestrais: 1\n",
      "Qual sua nota do segundo trimestrais: 2\n",
      "Qual sua nota do terceiro trimestrais: 3\n",
      "Qual sua nota do primeiro trimestrais: 4\n",
      "A sua média foi: 2.5\n"
     ]
    }
   ],
   "source": [
    "#Faça um Programa que peça as 4 notas trimestrais e mostre a média\n",
    "trimestrais1 = float(input(\"Qual sua nota do primeiro trimestrais: \"))\n",
    "trimestrais2 = float(input(\"Qual sua nota do segundo trimestrais: \"))\n",
    "trimestrais3 = float(input(\"Qual sua nota do terceiro trimestrais: \"))\n",
    "trimestrais4 = float(input(\"Qual sua nota do primeiro trimestrais: \"))\n",
    "\n",
    "print(\"A sua média foi:\", (trimestrais1 + trimestrais2 + trimestrais3 + trimestrais4)/ 4)"
   ]
  },
  {
   "cell_type": "code",
   "execution_count": null,
   "metadata": {},
   "outputs": [],
   "source": []
  }
 ],
 "metadata": {
  "kernelspec": {
   "display_name": "Python 3",
   "language": "python",
   "name": "python3"
  },
  "language_info": {
   "codemirror_mode": {
    "name": "ipython",
    "version": 3
   },
   "file_extension": ".py",
   "mimetype": "text/x-python",
   "name": "python",
   "nbconvert_exporter": "python",
   "pygments_lexer": "ipython3",
   "version": "3.8.3"
  }
 },
 "nbformat": 4,
 "nbformat_minor": 2
}
