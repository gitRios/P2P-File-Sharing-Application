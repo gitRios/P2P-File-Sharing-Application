{
 "cells": [
  {
   "cell_type": "markdown",
   "metadata": {},
   "source": [
    "# Aula 1 - Variáveis, função print() e tipos de dados"
   ]
  },
  {
   "cell_type": "markdown",
   "metadata": {},
   "source": [
    "## Variaveis - Armazenam valores\n",
    "\n",
    "\n",
    "Atribuir Valor a uma Variavel: \n",
    "    \n",
    "    nome_da_variavel = <valor>\n",
    "\n",
    "\n",
    "Regras para Criação:\n",
    "    \n",
    "    1 - Nomes de variáveis em Python podem começar com uma letra ou um underline.\n",
    "    2 - O restante do nome da variável pode ter letras, números e underline. (proibido caracteres especiais)\n",
    "    3 - Python é Case Sensitive (diferencia maiúsculas de minúsculas)\n",
    "    4 - Você não pode usar palavras reservadas do python como nome de variável válido. "
   ]
  },
  {
   "cell_type": "code",
   "execution_count": 2,
   "metadata": {},
   "outputs": [],
   "source": [
    "ano = 2020\n",
    "nome = \"Roberto\"\n",
    "idade = 70"
   ]
  },
  {
   "cell_type": "code",
   "execution_count": 3,
   "metadata": {},
   "outputs": [
    {
     "ename": "SyntaxError",
     "evalue": "invalid syntax (<ipython-input-3-9861dc7e5422>, line 1)",
     "output_type": "error",
     "traceback": [
      "\u001b[1;36m  File \u001b[1;32m\"<ipython-input-3-9861dc7e5422>\"\u001b[1;36m, line \u001b[1;32m1\u001b[0m\n\u001b[1;33m    primeiro nome = 'Gabriel'\u001b[0m\n\u001b[1;37m             ^\u001b[0m\n\u001b[1;31mSyntaxError\u001b[0m\u001b[1;31m:\u001b[0m invalid syntax\n"
     ]
    }
   ],
   "source": [
    "primeiro nome = 'Gabriel'"
   ]
  },
  {
   "cell_type": "markdown",
   "metadata": {},
   "source": [
    "## Função print()\n",
    "\n",
    "Função de saída de valores: imprime seu argumento na tela"
   ]
  },
  {
   "cell_type": "code",
   "execution_count": 4,
   "metadata": {},
   "outputs": [
    {
     "name": "stdout",
     "output_type": "stream",
     "text": [
      "Bom dia! Hoje é sexta-feira!\n"
     ]
    }
   ],
   "source": [
    "print(\"Bom dia! Hoje é sexta-feira!\")"
   ]
  },
  {
   "cell_type": "code",
   "execution_count": 5,
   "metadata": {},
   "outputs": [
    {
     "name": "stdout",
     "output_type": "stream",
     "text": [
      "Roberto\n"
     ]
    }
   ],
   "source": [
    "print(nome)"
   ]
  },
  {
   "cell_type": "code",
   "execution_count": 6,
   "metadata": {},
   "outputs": [
    {
     "name": "stdout",
     "output_type": "stream",
     "text": [
      "70\n"
     ]
    }
   ],
   "source": [
    "print(idade)"
   ]
  },
  {
   "cell_type": "code",
   "execution_count": 7,
   "metadata": {},
   "outputs": [
    {
     "name": "stdout",
     "output_type": "stream",
     "text": [
      "Estamos no ano de 2020\n"
     ]
    }
   ],
   "source": [
    "print(\"Estamos no ano de\", ano)"
   ]
  },
  {
   "cell_type": "code",
   "execution_count": 9,
   "metadata": {},
   "outputs": [
    {
     "name": "stdout",
     "output_type": "stream",
     "text": [
      "Meu nome é Roberto , tenho 70 anos e estamos no ano de 2020\n"
     ]
    }
   ],
   "source": [
    "print(\"Meu nome é\", nome, \"tenho\", idade,\"anos e estamos no ano de\", ano)"
   ]
  },
  {
   "cell_type": "markdown",
   "metadata": {},
   "source": [
    "## Tipos de Dados\n",
    "\n",
    "Python possui Tipagem Dinâmica\n",
    "\n",
    "- Tipos de Dados Numéricos:\n",
    "    - inteiro (int)\n",
    "    - ponto flutuante (float)\n",
    "    - booleano (bool)\n",
    "    - complexo (complex)\n",
    "\n",
    "\n",
    "- Tipos de Dados de Caracter:\n",
    "    - string /cadeia de caracteres (str)\n",
    "    \n",
    "\n",
    "\n",
    "Função <b>type()</b> : mostra o tipo da sua variável/dado"
   ]
  },
  {
   "cell_type": "code",
   "execution_count": 11,
   "metadata": {},
   "outputs": [],
   "source": [
    "status = True\n",
    "teste = False\n",
    "n1 = 20\n",
    "n2 = 10.5\n",
    "equipe = \"PEDS\""
   ]
  },
  {
   "cell_type": "code",
   "execution_count": 12,
   "metadata": {},
   "outputs": [
    {
     "name": "stdout",
     "output_type": "stream",
     "text": [
      "<class 'str'>\n",
      "<class 'bool'>\n",
      "<class 'int'>\n",
      "<class 'float'>\n",
      "<class 'str'>\n"
     ]
    }
   ],
   "source": [
    "print(type(\"Bom dia!\"))\n",
    "print(type(status))\n",
    "print(type(n1))\n",
    "print(type(n2))\n",
    "print(type(equipe))"
   ]
  },
  {
   "cell_type": "code",
   "execution_count": null,
   "metadata": {},
   "outputs": [],
   "source": []
  }
 ],
 "metadata": {
  "kernelspec": {
   "display_name": "Python 3",
   "language": "python",
   "name": "python3"
  },
  "language_info": {
   "codemirror_mode": {
    "name": "ipython",
    "version": 3
   },
   "file_extension": ".py",
   "mimetype": "text/x-python",
   "name": "python",
   "nbconvert_exporter": "python",
   "pygments_lexer": "ipython3",
   "version": "3.8.3"
  }
 },
 "nbformat": 4,
 "nbformat_minor": 2
}
