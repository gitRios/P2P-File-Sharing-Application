{
 "cells": [
  {
   "cell_type": "markdown",
   "metadata": {},
   "source": [
    "# Aula 6 - Estruturas de laço (WHILE e FOR)\n",
    "\n",
    "Em algumas situações é comum que uma mesma instrução (ou conjunto delas) precise ser executada várias vezes seguidas. Nesses casos, normalmente utilizamos um loop (ou laço de repetição) que permite executar o mesmo bloco de código enquanto uma condição é atendida."
   ]
  },
  {
   "cell_type": "markdown",
   "metadata": {},
   "source": [
    "## WHILE\n",
    "\n",
    "- Um conjunto de instruções é executado enquanto uma condição for verdadeira, quando essa condição passa a ser falsa, a execução do loop é interrompida"
   ]
  },
  {
   "cell_type": "code",
   "execution_count": 1,
   "metadata": {},
   "outputs": [
    {
     "name": "stdout",
     "output_type": "stream",
     "text": [
      "Digite seu usuárioGiovanna\n",
      "Digite sua senha12345\n",
      "Usuário ou senha incorretos\n",
      "Digite o usuario novamenteGabriel\n",
      "Digite a senha novamente09876\n",
      "Usuário ou senha incorretos\n",
      "Digite o usuario novamenteGabriel\n",
      "Digite a senha novamente12345\n",
      "saiu do loop\n"
     ]
    }
   ],
   "source": [
    "'''\n",
    "while (condição):\n",
    "    açao repetida até a condição ser False\n",
    "''' \n",
    "\n",
    "\n",
    "#Usando WHILE para verificar um usuário e senha sempre que for incorreto\n",
    "usuario = input(\"Digite seu usuário\")\n",
    "senha = input(\"Digite sua senha\")\n",
    "\n",
    "while(usuario != \"Gabriel\" or senha != \"12345\"):\n",
    "    print(\"Usuário ou senha incorretos:\")\n",
    "    usuario = input(\"Digite o usuario novamente\")\n",
    "    senha = input(\"Digite a senha novamente\")\n",
    "\n",
    "    \n",
    "print(\"saiu do loop\")"
   ]
  },
  {
   "cell_type": "code",
   "execution_count": 4,
   "metadata": {},
   "outputs": [
    {
     "name": "stdout",
     "output_type": "stream",
     "text": [
      "Gabriel\n",
      "Jorge\n",
      "Lucas\n",
      "Pedro\n",
      "Gabriel\n",
      "Bruno\n",
      "Beatriz\n",
      "Fim da Lista\n"
     ]
    }
   ],
   "source": [
    "#Percorrendo lista com WHILE\n",
    "Inscritos = [\"Jorge\", \"Lucas\", \"Pedro\", \"Gabriel\", \"Bruno\", \"Beatriz\"]\n",
    "\n",
    "contador = 0\n",
    "\n",
    "while(contador != len(Inscritos)):\n",
    "    print(Inscritos[contador])\n",
    "    contador = contador + 1\n",
    "    \n",
    "print(\"Fim da Lista\")"
   ]
  },
  {
   "cell_type": "code",
   "execution_count": 5,
   "metadata": {},
   "outputs": [
    {
     "name": "stdout",
     "output_type": "stream",
     "text": [
      "1\n",
      "2\n",
      "3\n",
      "4\n",
      "5\n",
      "saiu do loop\n"
     ]
    }
   ],
   "source": [
    "#Usando BREAK\n",
    "# contador += 1         =      contador = contador + 1 \n",
    "\n",
    "\n",
    "\n",
    "contador = 0\n",
    "\n",
    "while True:\n",
    "    \n",
    "    \n",
    "    contador += 1 \n",
    "    print(contador)\n",
    "    \n",
    "    if contador == 5:\n",
    "        break\n",
    "\n",
    "print('saiu do loop')"
   ]
  },
  {
   "cell_type": "markdown",
   "metadata": {},
   "source": [
    "## FOR\n",
    "\n",
    "- Nos permite percorrer os itens de uma lista e, para cada um deles, executar o bloco de código"
   ]
  },
  {
   "cell_type": "code",
   "execution_count": 8,
   "metadata": {},
   "outputs": [
    {
     "name": "stdout",
     "output_type": "stream",
     "text": [
      "Jorge\n",
      "Lucas\n",
      "Pedro\n",
      "Gabriel\n",
      "Bruno\n",
      "Beatriz\n",
      "Fim da lista\n"
     ]
    }
   ],
   "source": [
    "#Percorrendo Lista com FOR\n",
    "Area = [\"Jorge\", \"Lucas\", \"Pedro\", \"Gabriel\", \"Bruno\", \"Beatriz\"]\n",
    "\n",
    "for pessoa in Area:\n",
    "    print(pessoa)\n",
    "    \n",
    "print(\"Fim da lista\")"
   ]
  },
  {
   "cell_type": "markdown",
   "metadata": {},
   "source": [
    "## FOR e Range()\n",
    "\n",
    "- A função range() nos permite determinar um intervalo numérico para a execução da Lista\n"
   ]
  },
  {
   "cell_type": "code",
   "execution_count": 13,
   "metadata": {},
   "outputs": [
    {
     "name": "stdout",
     "output_type": "stream",
     "text": [
      "0\n",
      "1\n",
      "2\n",
      "3\n",
      "4\n",
      "5\n",
      "6\n",
      "7\n",
      "8\n",
      "9\n",
      "......................................\n",
      "0\n",
      "1\n",
      "2\n",
      "3\n",
      "4\n",
      "5\n",
      "6\n",
      "7\n",
      "8\n",
      "9\n",
      "......................................\n",
      "5\n",
      "6\n",
      "7\n",
      "......................................\n",
      "0\n",
      "3\n",
      "6\n",
      "9\n",
      "......................................\n",
      "0\n",
      "1\n",
      "2\n",
      "3\n",
      "4\n",
      "5\n",
      "6\n",
      "7\n",
      "8\n",
      "9\n",
      "10\n"
     ]
    }
   ],
   "source": [
    "\n",
    "#Imprimir os numeros de 0 a 9\n",
    "for item in range(10):\n",
    "    print(item)\n",
    "\n",
    "print(\"......................................\")\n",
    "\n",
    "#Imprimir os numeros de 0 a 9\n",
    "for itens in [0,1,2,3,4,5,6,7,8,9]:\n",
    "    print(itens)\n",
    "\n",
    "    \n",
    "print(\"......................................\")\n",
    "\n",
    "#Imprimir os numeros de 5 a 7\n",
    "for itens in range(5, 8):\n",
    "    print(itens)\n",
    "    \n",
    "print(\"......................................\")\n",
    "\n",
    "#Imprimir os numeros de 0 a 9 pulando 2 numeros\n",
    "for itens in range(0, 10, 3):\n",
    "    print(itens)\n",
    "    \n",
    "print(\"......................................\")\n",
    "    \n",
    "#Imprimir os numeros de 0 a 10\n",
    "for itens in range(11):\n",
    "    print(itens)"
   ]
  },
  {
   "cell_type": "markdown",
   "metadata": {},
   "source": [
    "## Break, Continue e Pass\n",
    "\n",
    "- break: interrompe o fluxo do código\n",
    "- continue: continua o fluxo do código\n",
    "- pass: deixa passar o fluxo do código"
   ]
  },
  {
   "cell_type": "code",
   "execution_count": 16,
   "metadata": {},
   "outputs": [
    {
     "name": "stdout",
     "output_type": "stream",
     "text": [
      "1\n",
      "2\n",
      "3\n",
      "4\n",
      "...................................................\n",
      "1\n",
      "2\n",
      "3\n",
      "4\n",
      "5\n",
      "7\n",
      "8\n",
      "9\n",
      "10\n",
      "...................................................\n",
      "1\n",
      "2\n",
      "3\n",
      "4\n",
      "5\n",
      "6\n",
      "7\n",
      "8\n",
      "9\n",
      "10\n"
     ]
    }
   ],
   "source": [
    "#Usando continue, break e pass\n",
    "numeros = [1,2,3,4,5,6,7,8,9,10]\n",
    "\n",
    "for itens in numeros:\n",
    "    if itens == 5:\n",
    "        break\n",
    "    print(itens)\n",
    "    \n",
    "print(\"...................................................\")\n",
    "\n",
    "for itens in numeros:\n",
    "    if itens == 6:\n",
    "        continue\n",
    "    print(itens)\n",
    "\n",
    "print(\"...................................................\")\n",
    "\n",
    "for itens in numeros:\n",
    "    if itens == 4:\n",
    "        pass\n",
    "    print(itens)\n",
    "    \n"
   ]
  },
  {
   "cell_type": "code",
   "execution_count": null,
   "metadata": {},
   "outputs": [],
   "source": []
  }
 ],
 "metadata": {
  "kernelspec": {
   "display_name": "Python 3",
   "language": "python",
   "name": "python3"
  },
  "language_info": {
   "codemirror_mode": {
    "name": "ipython",
    "version": 3
   },
   "file_extension": ".py",
   "mimetype": "text/x-python",
   "name": "python",
   "nbconvert_exporter": "python",
   "pygments_lexer": "ipython3",
   "version": "3.8.3"
  }
 },
 "nbformat": 4,
 "nbformat_minor": 2
}
