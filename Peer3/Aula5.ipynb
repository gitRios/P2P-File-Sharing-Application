{
 "cells": [
  {
   "cell_type": "markdown",
   "metadata": {},
   "source": [
    "# Aula 5 – Strings (Textos)\n",
    "\n",
    "\n",
    "- Textos em python são escritos usando aspas simples ou duplas ('texto' ou \"texto\")\n",
    "\n",
    "- Strings também são Listas (arrays):\n",
    "    - Possuem indices para cada posição (iniciam do 0)\n"
   ]
  },
  {
   "cell_type": "code",
   "execution_count": 1,
   "metadata": {},
   "outputs": [
    {
     "name": "stdout",
     "output_type": "stream",
     "text": [
      "Oi, tudo bem?\n",
      "Oi, tudo bem?\n"
     ]
    }
   ],
   "source": [
    "TextoLinhaUnica1 = 'Oi, tudo bem?'\n",
    "TextoLinhaUnica2 = \"Oi, tudo bem?\"\n",
    "\n",
    "print(TextoLinhaUnica1)\n",
    "print(TextoLinhaUnica2)"
   ]
  },
  {
   "cell_type": "code",
   "execution_count": 2,
   "metadata": {},
   "outputs": [
    {
     "name": "stdout",
     "output_type": "stream",
     "text": [
      "\n",
      "Oi,\n",
      "Tudo bem? \n",
      "sfshdfhs\n",
      "\n",
      "\n",
      "\n",
      "\n"
     ]
    }
   ],
   "source": [
    "#Texto de Multiplas Linhas: (Aspas Triplas)\n",
    "\n",
    "TextoMultiplasLinhas = '''\n",
    "Oi,\n",
    "Tudo bem? \n",
    "sfshdfhs\n",
    "'''\n",
    "\n",
    "print(TextoMultiplasLinhas)"
   ]
  },
  {
   "cell_type": "markdown",
   "metadata": {},
   "source": [
    "## Strings como Listas"
   ]
  },
  {
   "cell_type": "code",
   "execution_count": 3,
   "metadata": {},
   "outputs": [
    {
     "name": "stdout",
     "output_type": "stream",
     "text": [
      "a\n",
      "l\n"
     ]
    }
   ],
   "source": [
    "pais = \"Brasil\"\n",
    "\n",
    "print(pais[2])\n",
    "print(pais[5])"
   ]
  },
  {
   "cell_type": "markdown",
   "metadata": {},
   "source": [
    "## Slicing "
   ]
  },
  {
   "cell_type": "code",
   "execution_count": 4,
   "metadata": {},
   "outputs": [
    {
     "name": "stdout",
     "output_type": "stream",
     "text": [
      "obo\n"
     ]
    }
   ],
   "source": [
    "empresa = \"Globo RJ\"\n",
    "print(empresa[2:5])"
   ]
  },
  {
   "cell_type": "markdown",
   "metadata": {},
   "source": [
    "## Tamanho de uma String: len()"
   ]
  },
  {
   "cell_type": "code",
   "execution_count": 6,
   "metadata": {},
   "outputs": [
    {
     "name": "stdout",
     "output_type": "stream",
     "text": [
      "7\n"
     ]
    }
   ],
   "source": [
    "programacao = \"Python \"\n",
    "print(len(programacao))"
   ]
  },
  {
   "cell_type": "markdown",
   "metadata": {},
   "source": [
    "## Metodos de String"
   ]
  },
  {
   "cell_type": "markdown",
   "metadata": {},
   "source": [
    "- isalnum()\tRetorna True se todos os caracteres na string forem alfanumericos\n",
    "- isalpha()\tRetorna True se todos os caracteres na string forem alfabeticos\n",
    "- isnumeric()\tRetorna True se todos os caracteres na string forem numeros\n",
    "- lower()\tConverte uma string em minusculo\n",
    "- strip()\tRemove espaços do inicio e do fim da string\n",
    "- upper()\tConverte uma string em maiusculo"
   ]
  },
  {
   "cell_type": "code",
   "execution_count": 8,
   "metadata": {},
   "outputs": [
    {
     "name": "stdout",
     "output_type": "stream",
     "text": [
      "      Oi tudo bem?     \n",
      "Oi tudo bem?\n",
      "eu trabalho com soluções digitais\n",
      "EU TRABALHO COM SOLUÇÕES DIGITAIS\n",
      "False\n",
      "False\n",
      "True\n",
      "True\n",
      "True\n"
     ]
    }
   ],
   "source": [
    "texto = '      Oi tudo bem?     '\n",
    "print(texto)\n",
    "print(texto.strip())\n",
    "\n",
    "\n",
    "frase = \"Eu Trabalho com Soluções Digitais\"\n",
    "palavra = \"Televisao\"\n",
    "\n",
    "print(frase.lower())\n",
    "print(frase.upper())\n",
    "\n",
    "print(frase.isalnum())\n",
    "print(frase.isalpha())\n",
    "\n",
    "print(palavra.isalnum())\n",
    "print(palavra.isalpha())\n",
    "\n",
    "\n",
    "senha = \"2020\"\n",
    "print(senha.isnumeric())"
   ]
  },
  {
   "cell_type": "markdown",
   "metadata": {},
   "source": [
    "## Checar textos em String"
   ]
  },
  {
   "cell_type": "code",
   "execution_count": 9,
   "metadata": {},
   "outputs": [
    {
     "name": "stdout",
     "output_type": "stream",
     "text": [
      "True\n"
     ]
    }
   ],
   "source": [
    "#Utiliza a palavra IN e retorna True ou Falso se existir\n",
    "\n",
    "frase = 'Bom dia, hoje está sol'\n",
    "teste = 'sol' in frase\n",
    "\n",
    "print(teste)"
   ]
  },
  {
   "cell_type": "code",
   "execution_count": null,
   "metadata": {},
   "outputs": [],
   "source": []
  }
 ],
 "metadata": {
  "kernelspec": {
   "display_name": "Python 3",
   "language": "python",
   "name": "python3"
  },
  "language_info": {
   "codemirror_mode": {
    "name": "ipython",
    "version": 3
   },
   "file_extension": ".py",
   "mimetype": "text/x-python",
   "name": "python",
   "nbconvert_exporter": "python",
   "pygments_lexer": "ipython3",
   "version": "3.8.3"
  }
 },
 "nbformat": 4,
 "nbformat_minor": 2
}
