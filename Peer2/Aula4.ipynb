{
 "cells": [
  {
   "cell_type": "markdown",
   "metadata": {},
   "source": [
    "# Aula 4 – Listas (vetores)\n",
    "\n",
    "- Uma lista é uma sequência ou coleção ordenada de valores.\n",
    "- Cada valor na lista é identificado por um índice.\n",
    "- O valores que formam uma lista são chamados elementos ou itens.\n",
    "- Listas são similares a strings, são uma sequência de caracteres, no entanto, os itens de uma lista podem ser de tipos diferentes.\n",
    "- Os índices de uma lista iniciam do 0\n"
   ]
  },
  {
   "cell_type": "markdown",
   "metadata": {},
   "source": [
    "## Valores em uma lista"
   ]
  },
  {
   "cell_type": "code",
   "execution_count": 1,
   "metadata": {},
   "outputs": [
    {
     "name": "stdout",
     "output_type": "stream",
     "text": [
      "[]\n",
      "['Beatriz', 'Gabriel', 'Jorge']\n",
      "Beatriz\n",
      "3\n",
      "20\n",
      "[['Beatriz', 20, 'Rua abc n 455'], [1, 2, 3, 4, 5]]\n"
     ]
    }
   ],
   "source": [
    "#Declarando uma lista\n",
    "lista = []\n",
    "\n",
    "inteiros = [1,2,3,4,5]\n",
    "strings = [\"Beatriz\", \"Gabriel\", \"Jorge\"]\n",
    "informacoes = [\"Beatriz\", 20, \"Rua abc n 455\"]\n",
    "\n",
    "#Criando uma lista de listas\n",
    "mesclagem = [informacoes, inteiros] \n",
    "\n",
    "\n",
    "print(lista)\n",
    "print(strings)\n",
    "print(strings[0])\n",
    "print(inteiros[2])\n",
    "print(informacoes[1])\n",
    "print(mesclagem)"
   ]
  },
  {
   "cell_type": "markdown",
   "metadata": {},
   "source": [
    "## Comprimento de uma lista\n",
    "\n",
    "- O comprimento de uma lista, ou o número de itens que a compõem, pode ser obtido a partir da função len()"
   ]
  },
  {
   "cell_type": "code",
   "execution_count": 2,
   "metadata": {},
   "outputs": [
    {
     "name": "stdout",
     "output_type": "stream",
     "text": [
      "6\n"
     ]
    }
   ],
   "source": [
    "Area = [\"Jorge\", \"Lucas\", \"Gabriel\", \"Pedro\", \"Bruno\", \"Beatriz\"]\n",
    "\n",
    "print(len(Area))"
   ]
  },
  {
   "cell_type": "markdown",
   "metadata": {},
   "source": [
    "## Verificando a existência de valores em uma lista\n",
    "\n",
    "- Para verificar se um determinado valor existe em uma lista utilizamos o operador in, que retorna um valor booleano, caso exista retorna True, caso não, retorna False"
   ]
  },
  {
   "cell_type": "code",
   "execution_count": 3,
   "metadata": {},
   "outputs": [
    {
     "name": "stdout",
     "output_type": "stream",
     "text": [
      "False\n",
      "True\n"
     ]
    }
   ],
   "source": [
    "Vencedores = [\"Joao\", \"Thomas\", \"Luciana\"]\n",
    "\n",
    "print(\"Ricardo\" in Vencedores)\n",
    "print(\"Luciana\" in Vencedores)"
   ]
  },
  {
   "cell_type": "markdown",
   "metadata": {},
   "source": [
    "## Funções min(), max() e sum()\n",
    "\n",
    "- Servem para achar respectivamente o menor valor, o maior valor e realizar a soma de todos os elementos da lista"
   ]
  },
  {
   "cell_type": "code",
   "execution_count": 5,
   "metadata": {},
   "outputs": [
    {
     "name": "stdout",
     "output_type": "stream",
     "text": [
      "6.5\n",
      "10\n",
      "59.0\n"
     ]
    }
   ],
   "source": [
    "notasNPS = [8, 9, 10, 6.5, 8, 8.5, 9]\n",
    "\n",
    "print(min(notasNPS))\n",
    "print(max(notasNPS))\n",
    "print(sum(notasNPS))"
   ]
  },
  {
   "cell_type": "markdown",
   "metadata": {},
   "source": [
    "## Métodos das listas\n",
    "\n",
    "- append(): adiciona um novo elemento ao fim da lista\n",
    "- insert(): adiciona um novo elemento através de um índice\n",
    "- pop(): remove o último item da lista ou o item de um índice especificado\n",
    "- remove(item): remove o item especificado\n",
    "- sort(): ordena a lista\n",
    "- reverse(): inverte a posição dos itens\n",
    "- count(): retorna o número de vezes que um item aparece em uma lista"
   ]
  },
  {
   "cell_type": "code",
   "execution_count": 6,
   "metadata": {},
   "outputs": [
    {
     "name": "stdout",
     "output_type": "stream",
     "text": [
      "Append: ['Beatriz', 'Gabriel', 'Pedro', 'Giovanna', 'Joao']\n",
      "Insert:  ['Beatriz', 'Gabriel', 'Pedro', 'Bruna', 'Giovanna', 'Joao']\n",
      "Pop:  ['Beatriz', 'Gabriel', 'Pedro', 'Bruna', 'Giovanna']\n",
      "Pop:  ['Beatriz', 'Gabriel', 'Bruna', 'Giovanna']\n",
      "Remove:  ['Gabriel', 'Bruna', 'Giovanna']\n",
      "Sort:  ['Bruna', 'Gabriel', 'Giovanna']\n",
      "Reverse:  ['Giovanna', 'Gabriel', 'Bruna']\n",
      "Count:  1\n"
     ]
    }
   ],
   "source": [
    "Departamento = [\"Beatriz\", \"Gabriel\", \"Pedro\", \"Giovanna\"]\n",
    "\n",
    "Departamento.append(\"Joao\")\n",
    "print(\"Append:\" , Departamento)\n",
    "\n",
    "Departamento.insert(3, \"Bruna\")\n",
    "print(\"Insert: \" , Departamento)\n",
    "\n",
    "Departamento.pop()\n",
    "print(\"Pop: \" , Departamento)\n",
    "\n",
    "Departamento.pop(2)\n",
    "print(\"Pop: \" , Departamento)\n",
    "\n",
    "Departamento.remove(\"Beatriz\")\n",
    "print(\"Remove: \" , Departamento)\n",
    "\n",
    "Departamento.sort()\n",
    "print(\"Sort: \" , Departamento)\n",
    "\n",
    "Departamento.reverse()\n",
    "print(\"Reverse: \" , Departamento)\n",
    "\n",
    "\n",
    "print(\"Count: \" , Departamento.count(\"Gabriel\"))\n",
    "\n"
   ]
  },
  {
   "cell_type": "code",
   "execution_count": null,
   "metadata": {},
   "outputs": [],
   "source": []
  }
 ],
 "metadata": {
  "kernelspec": {
   "display_name": "Python 3",
   "language": "python",
   "name": "python3"
  },
  "language_info": {
   "codemirror_mode": {
    "name": "ipython",
    "version": 3
   },
   "file_extension": ".py",
   "mimetype": "text/x-python",
   "name": "python",
   "nbconvert_exporter": "python",
   "pygments_lexer": "ipython3",
   "version": "3.8.3"
  }
 },
 "nbformat": 4,
 "nbformat_minor": 2
}
