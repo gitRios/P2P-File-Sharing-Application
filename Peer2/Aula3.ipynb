{
 "cells": [
  {
   "cell_type": "markdown",
   "metadata": {},
   "source": [
    "# Aula 3 – Operadores lógicos e estruturas de decisões (IF e ELSE)\n"
   ]
  },
  {
   "cell_type": "markdown",
   "metadata": {},
   "source": [
    "## Operadores Lógicos:\n",
    "\n",
    "- Igual: a == b\n",
    "- Diferente: a != b\n",
    "- Menor que: a < b\n",
    "- Menor igual a: a <= b\n",
    "- Maior que: a > b\n",
    "- Maior igual a: a >= b\n",
    "\n",
    "A comparação através dos operadores lógicos retornam sempre resultados booleanos (ou seja True ou False)"
   ]
  },
  {
   "cell_type": "code",
   "execution_count": 1,
   "metadata": {},
   "outputs": [
    {
     "name": "stdout",
     "output_type": "stream",
     "text": [
      "True\n",
      "False\n",
      "False\n",
      "True\n",
      "True\n",
      "False\n"
     ]
    }
   ],
   "source": [
    "#Retorno operações lógicas\n",
    "a = 5\n",
    "b = 6\n",
    "c = 7\n",
    "d = 8\n",
    "\n",
    "print(b > a) \n",
    "print(b < a) \n",
    "print(a >= c) \n",
    "print(a <= c) \n",
    "print(b != d) \n",
    "print(a == c)\n"
   ]
  },
  {
   "cell_type": "markdown",
   "metadata": {},
   "source": [
    "## Estrutura If/Else\n",
    "\n",
    "A estrutura condicional if/else é um recurso que através de uma condição (comparações com operadores lógicos), validamos a execução de alguma ação.\n",
    "o sistema testa se uma condição é verdadeira e então executa comandos de acordo com esse resultado.\n",
    "\n"
   ]
  },
  {
   "cell_type": "code",
   "execution_count": null,
   "metadata": {},
   "outputs": [],
   "source": [
    "#Exercicios exemplo (Explicar os comentários de multiplas linhas)\n",
    "\n",
    "\"\"\"\n",
    "if(condição):\n",
    "    ação\n",
    "else:\n",
    "    ação\n",
    "\"\"\""
   ]
  },
  {
   "cell_type": "code",
   "execution_count": 3,
   "metadata": {},
   "outputs": [
    {
     "name": "stdout",
     "output_type": "stream",
     "text": [
      "Digite sua área na Suvinil: Marketing\n",
      "Acesso Permitido\n"
     ]
    }
   ],
   "source": [
    "#Restrição de Acesso\n",
    "area = input(\"Digite sua área na Suvinil: \")\n",
    "\n",
    "\n",
    "if(area == \"Marketing\"):\n",
    "    print(\"Acesso Permitido\")\n",
    "else:\n",
    "    print(\"Acesso Negado\")"
   ]
  },
  {
   "cell_type": "markdown",
   "metadata": {},
   "source": [
    "## Estrutura If/Elif/Else\n",
    "\n",
    "- A estrutura Elif é utilizada caso seja necessário dar uma condição ao else ou adicionar mais condições ao código.\n",
    "- Podemos utilizar o elif quantas vezes forem necessárias. (criar n estruturas condicionais)"
   ]
  },
  {
   "cell_type": "code",
   "execution_count": 4,
   "metadata": {},
   "outputs": [
    {
     "data": {
      "text/plain": [
       "'\\nif(condição):\\n    ação\\nelif(condição):\\n    ação\\nelse:\\n    ação\\n'"
      ]
     },
     "execution_count": 4,
     "metadata": {},
     "output_type": "execute_result"
    }
   ],
   "source": [
    "#Exercicio Elif\n",
    "\n",
    "\"\"\"\n",
    "if(condição):\n",
    "    ação\n",
    "elif(condição):\n",
    "    ação\n",
    "else:\n",
    "    ação\n",
    "\"\"\""
   ]
  },
  {
   "cell_type": "code",
   "execution_count": 6,
   "metadata": {},
   "outputs": [
    {
     "name": "stdout",
     "output_type": "stream",
     "text": [
      "Digite sua área na Suvinil: Laboratório\n",
      "Acesso Negado\n"
     ]
    }
   ],
   "source": [
    "#Restrição de Acesso\n",
    "#Temos relatórios específicos em algumas áreas e precisamos restringir o acesso, para cada um acessar só sua área.\n",
    "area = input(\"Digite sua área na Suvinil: \")\n",
    "\n",
    "if(area==\"SupplyChain\"):\n",
    "    print(\"Acesso permitido a todos os relatórios\")\n",
    "elif(area == \"Vendas\"):\n",
    "    print(\"Acesso permitido aos relatórios de vendas\")\n",
    "elif(area == \"Marketing\"):\n",
    "    print(\"Acesso permitido aos relatórios de Marketing\")\n",
    "else:\n",
    "    print(\"Acesso Negado\")"
   ]
  },
  {
   "cell_type": "markdown",
   "metadata": {},
   "source": [
    "## Operadores and, or e not\n",
    "\n",
    "Podemos utilizar mais de uma condição dentro de um mesmo if ou elif, para isso, entre as condições colocamos:\n",
    "- <b>and</b>: executa caso todas as informações sejam verdadeiras\n",
    "- <b>or</b>: executa caso uma das informações seja verdadeira\n",
    "\n",
    "Podemos também negar o valor de uma condição, utilizando o <b>not</b>."
   ]
  },
  {
   "cell_type": "code",
   "execution_count": null,
   "metadata": {},
   "outputs": [],
   "source": [
    "#Exercicios and e or e not\n",
    "\n",
    "#AND\n",
    "\"\"\"\n",
    "if(condição1 and condição2):\n",
    "    ação1\n",
    "else:\n",
    "    ação2\n",
    "\"\"\"\n",
    "\n",
    "#OR\n",
    "\"\"\"\n",
    "if(condição1 or condição2):\n",
    "    ação1\n",
    "else:\n",
    "    ação2\n",
    "\"\"\"\n",
    "\n",
    "#NOT - Executa ação se a condição1 for falsa\n",
    "\"\"\"\n",
    "if(not condição1):\n",
    "    ação\n",
    "\"\"\""
   ]
  },
  {
   "cell_type": "code",
   "execution_count": 8,
   "metadata": {},
   "outputs": [
    {
     "name": "stdout",
     "output_type": "stream",
     "text": [
      "Digite a empresa que trabalha:BASF\n",
      "Digite a area que trabalha na BASF:Vendas\n",
      "Acessos a Clientes e Produtos Permitidos\n"
     ]
    }
   ],
   "source": [
    "empresa = input(\"Digite a empresa que trabalha:\")\n",
    "\n",
    "if(empresa == \"BASF\"):\n",
    "    area = input(\"Digite a area que trabalha na BASF:\")\n",
    "    \n",
    "    if (area == \"Vendas\" or area == \"Marketing\"):\n",
    "        print(\"Acessos a Clientes e Produtos Permitidos\")\n",
    "    elif (area == \"SupplyChain\"):\n",
    "        print(\"Acessos a Produção e Fábrica Permitidos\")\n",
    "    else:\n",
    "        print(\"Area inválida!\")\n",
    "\n",
    "else:\n",
    "    print(\"Acesso negado! Apenas usuários BASF\")\n"
   ]
  },
  {
   "cell_type": "code",
   "execution_count": null,
   "metadata": {},
   "outputs": [],
   "source": [
    "# if com valores booleanos\n",
    "\n",
    "if True:\n",
    "    print(\"Isso sempre vai ser executado!\")\n",
    "    \n",
    "if (True and True):\n",
    "    print(\"entrou no if\")\n",
    "elif (not True):\n",
    "    print(\"entrou no elif\")\n",
    "else:\n",
    "    print(\"entrou no else\")\n",
    "    "
   ]
  },
  {
   "cell_type": "code",
   "execution_count": null,
   "metadata": {},
   "outputs": [],
   "source": []
  }
 ],
 "metadata": {
  "kernelspec": {
   "display_name": "Python 3",
   "language": "python",
   "name": "python3"
  },
  "language_info": {
   "codemirror_mode": {
    "name": "ipython",
    "version": 3
   },
   "file_extension": ".py",
   "mimetype": "text/x-python",
   "name": "python",
   "nbconvert_exporter": "python",
   "pygments_lexer": "ipython3",
   "version": "3.8.3"
  }
 },
 "nbformat": 4,
 "nbformat_minor": 2
}
